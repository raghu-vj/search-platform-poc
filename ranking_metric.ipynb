{
 "cells": [
  {
   "cell_type": "code",
   "execution_count": null,
   "metadata": {
    "collapsed": true,
    "pycharm": {
     "is_executing": true
    }
   },
   "outputs": [],
   "source": [
    "import math\n",
    "\n",
    "import pandas as pd\n",
    "df1 = pd.read_csv('./data/es_algolia_788741_26april.tsv', sep='\\t', header=0)\n",
    "df2 = pd.read_csv('./data/im_logs_788741.tsv', sep='\\t', header=0)\n",
    "\n",
    "df1.applymap(lambda x: x.strip() if isinstance(x, str) else x)\n",
    "df2.applymap(lambda x: x.strip() if isinstance(x, str) else x)\n",
    "\n",
    "\n",
    "\n",
    "\n",
    "s = df1[\"Query\"].isna()\n",
    "\n",
    "df1[\"Query\"].ffill(inplace=True)\n",
    "\n",
    "\n",
    "df1['algolia_sugg_rank'] = df1.groupby('Query')['Query'].rank(method='first')\n",
    "df1['es_sugg_rank'] = df1.groupby('Query')['Query'].rank(method='first')\n",
    "\n",
    "\n",
    "\n",
    "\n",
    "\n",
    "\n",
    "df2['sugg_count'] = df2.groupby('Query')['Query'].transform('count')\n",
    "df2.sort_values(['Query'])\n",
    "df2['order_count'].fillna(0, inplace = True)\n",
    "\n",
    "df2['sugg_rank'] = df2.sort_values(['Query', 'order_count', 'SEARCHES'], ascending=False).groupby(['Query']).cumcount() + 1\n",
    "df2.sort_values(['Query', 'order_count'], ascending = [1,0])\n",
    "\n",
    "df2 = df2[df2['sugg_rank'] <= 10]\n",
    "#print(df2.count())\n",
    "#df2['suggestion']\n",
    "\n",
    "\n",
    "df2_sel_col = df2[['Query', 'suggestion', 'sugg_rank']].rename(columns = {'suggestion' : 'ground_truth_product', 'sugg_rank': 'gt_product_rank'})\n",
    "\n",
    "df1 = df1.merge(df2_sel_col,\n",
    "               how='left',\n",
    "               left_on=['Query', 'algolia_sugg_rank'],\n",
    "               right_on=['Query', 'gt_product_rank']\n",
    "               )\n",
    "\n",
    "\n",
    "\n",
    "\n",
    "\n",
    "df1_out = df1.drop(['algolia_sugg_rank', 'es_sugg_rank', 'gt_product_rank'], axis=1, inplace=False).rename(columns = {'Algolia Results': 'algolia', 'Elastic-search results': 'es'})\n",
    "\n",
    "df1_algolia = df1_out.groupby('Query').agg({'algolia':lambda x: list(x)})\n",
    "df1_es = df1_out.groupby('Query').agg({'es':lambda x: list(x)})\n",
    "df1_gt = df1_out.groupby('Query').agg({'ground_truth_product':lambda x: list(x)})\n",
    "\n",
    "dict_algo = df1_algolia.to_dict()#['Algolia Results'].keys()#['paneer']\n",
    "dict_es = df1_es.to_dict()#['Algolia Results'].keys()#['paneer']\n",
    "dict_gt = df1_gt.to_dict()#['Algolia Results'].keys()#['paneer']\n",
    "\n",
    "dict_all = dict_algo\n",
    "dict_all.update(dict_es)\n",
    "dict_all.update(dict_gt)\n",
    "#dict_all.keys()\n",
    "\n",
    "avg_recall_es = 0\n",
    "avg_recall_algolia = 0\n",
    "count = 0\n",
    "skip_count = 0\n",
    "new_recall_dict = {}\n",
    "avg_ndcg_algolia = 0\n",
    "avg_ndcg_es = 0\n",
    "\n",
    "for key in dict_algo['algolia']:\n",
    "    gt_list = [str(p).strip() for p in dict_all['ground_truth_product'][key] if str(p) != 'nan']\n",
    "    if len(set(gt_list)) == 0:\n",
    "        skip_count += 1\n",
    "        continue\n",
    "\n",
    "    algolia_list = [str(p).strip() for p in dict_all['algolia'][key] if str(p) != 'nan']\n",
    "    es_list = [str(p).strip() for p in dict_all['es'][key] if str(p) != 'nan']\n",
    "    #print(key)\n",
    "    if key == 'coconut':\n",
    "        # print(algolia_list)\n",
    "        # print(gt_list)\n",
    "        # print(es_list)\n",
    "        # print(len(set(algolia_list)), len(set(es_list)), len(set(gt_list)))\n",
    "    recall_algolia = len(set(gt_list).intersection(set(algolia_list)))*100/len(set(gt_list))\n",
    "    avg_recall_algolia += recall_algolia\n",
    "\n",
    "    recall_es =  len(set(gt_list).intersection(set(es_list)))*100/len(set(gt_list))\n",
    "    avg_recall_es += recall_es\n",
    "    #print(recall_algolia, recall_es)\n",
    "    if not (recall_algolia == 0 and recall_es == 0):\n",
    "        count += 1\n",
    "    else:\n",
    "        skip_count += 1\n",
    "\n",
    "    #add info to output dictionary\n",
    "    new_recall_dict[key] = {'recall_algolia_in_gt_top10': recall_algolia,\n",
    "                            'recall_es_in_gt_top10': recall_es}\n",
    "\n",
    "    # ndcg calculation\n",
    "    relevance_list_algolia = []\n",
    "    relevance_list_es = []\n",
    "    for item in algolia_list:\n",
    "        if item in gt_list:\n",
    "            gt_index = gt_list.index(item)\n",
    "        else:\n",
    "            gt_index = 10\n",
    "        if gt_index < 0:\n",
    "            gt_index = 10\n",
    "        relevance_list_algolia.append(10-gt_index)\n",
    "\n",
    "    for item in es_list:\n",
    "        if item in gt_list:\n",
    "            gt_index = gt_list.index(item)\n",
    "        else:\n",
    "            gt_index = 10\n",
    "\n",
    "        if gt_index < 0:\n",
    "            gt_index = 10\n",
    "        relevance_list_es.append(10-gt_index)\n",
    "\n",
    "    algolia_dcg = 0\n",
    "    es_dcg = 0\n",
    "    algolia_idcg = 0\n",
    "    es_idcg = 0\n",
    "    for i in range(len(relevance_list_algolia)):\n",
    "        algolia_dcg += relevance_list_algolia[i]/math.log2(i+2)\n",
    "        algolia_idcg += (len(relevance_list_algolia) - i)/math.log2(i+2)\n",
    "\n",
    "    for i in range(len(relevance_list_es)):\n",
    "        es_dcg += relevance_list_es[i]/math.log2(i+2)\n",
    "        es_idcg += (len(relevance_list_es) - i)/math.log2(i+2)\n",
    "\n",
    "\n",
    "    avg_ndcg_algolia += algolia_dcg/algolia_idcg\n",
    "    avg_ndcg_es += es_dcg/es_idcg\n",
    "\n",
    "avg_recall_algolia = avg_recall_algolia/count\n",
    "avg_recall_es = avg_recall_es/count\n",
    "avg_ndcg_algolia = avg_ndcg_algolia/count\n",
    "avg_ndcg_es = avg_ndcg_es/count\n",
    "\n",
    "print('count, skip_count:', count, skip_count)\n",
    "print('recall_algolia:', avg_recall_algolia)\n",
    "print('recall_es:', avg_recall_es)\n",
    "print('ndcg_algolia:', avg_ndcg_algolia)\n",
    "print('ndcg_es:', avg_ndcg_es)\n",
    "\n",
    "new_recall_df = pd.DataFrame.from_dict(new_recall_dict).T\n",
    "new_recall_df['Query'] = new_recall_df.index\n",
    "#new_recall_df\n",
    "\n",
    "df1_out = df1_out.merge(new_recall_df,\n",
    "               how='left',\n",
    "               left_on=['Query'],\n",
    "               right_on=['Query']\n",
    "               )\n",
    "\n",
    "#df1_out.to_csv('./data/im_poc_gt_788741_26apr_2days.tsv', sep = \"\\t\")\n",
    "\n"
   ]
  },
  {
   "cell_type": "code",
   "execution_count": null,
   "outputs": [],
   "source": [],
   "metadata": {
    "collapsed": false,
    "pycharm": {
     "name": "#%%\n",
     "is_executing": true
    }
   }
  },
  {
   "cell_type": "code",
   "execution_count": null,
   "outputs": [],
   "source": [],
   "metadata": {
    "collapsed": false,
    "pycharm": {
     "name": "#%%\n"
    }
   }
  },
  {
   "cell_type": "code",
   "execution_count": null,
   "outputs": [],
   "source": [],
   "metadata": {
    "collapsed": false,
    "pycharm": {
     "name": "#%%\n",
     "is_executing": true
    }
   }
  },
  {
   "cell_type": "code",
   "execution_count": null,
   "outputs": [],
   "source": [],
   "metadata": {
    "collapsed": false,
    "pycharm": {
     "name": "#%%\n",
     "is_executing": true
    }
   }
  },
  {
   "cell_type": "code",
   "execution_count": 56,
   "outputs": [],
   "source": [],
   "metadata": {
    "collapsed": false,
    "pycharm": {
     "name": "#%%\n"
    }
   }
  },
  {
   "cell_type": "code",
   "execution_count": null,
   "outputs": [],
   "source": [],
   "metadata": {
    "collapsed": false,
    "pycharm": {
     "name": "#%%\n",
     "is_executing": true
    }
   }
  },
  {
   "cell_type": "code",
   "execution_count": 57,
   "outputs": [],
   "source": [],
   "metadata": {
    "collapsed": false,
    "pycharm": {
     "name": "#%%\n"
    }
   }
  },
  {
   "cell_type": "code",
   "execution_count": 68,
   "outputs": [],
   "source": [],
   "metadata": {
    "collapsed": false,
    "pycharm": {
     "name": "#%%\n"
    }
   }
  },
  {
   "cell_type": "code",
   "execution_count": null,
   "outputs": [],
   "source": [],
   "metadata": {
    "collapsed": false,
    "pycharm": {
     "name": "#%%\n",
     "is_executing": true
    }
   }
  },
  {
   "cell_type": "code",
   "execution_count": null,
   "outputs": [],
   "source": [],
   "metadata": {
    "collapsed": false,
    "pycharm": {
     "name": "#%%\n",
     "is_executing": true
    }
   }
  },
  {
   "cell_type": "code",
   "execution_count": null,
   "outputs": [],
   "source": [],
   "metadata": {
    "collapsed": false,
    "pycharm": {
     "name": "#%%\n",
     "is_executing": true
    }
   }
  },
  {
   "cell_type": "code",
   "execution_count": 50,
   "outputs": [],
   "source": [],
   "metadata": {
    "collapsed": false,
    "pycharm": {
     "name": "#%%\n"
    }
   }
  },
  {
   "cell_type": "code",
   "execution_count": null,
   "outputs": [],
   "source": [],
   "metadata": {
    "collapsed": false,
    "pycharm": {
     "name": "#%%\n",
     "is_executing": true
    }
   }
  },
  {
   "cell_type": "code",
   "execution_count": null,
   "outputs": [],
   "source": [],
   "metadata": {
    "collapsed": false,
    "pycharm": {
     "name": "#%%\n",
     "is_executing": true
    }
   }
  },
  {
   "cell_type": "code",
   "execution_count": null,
   "outputs": [],
   "source": [],
   "metadata": {
    "collapsed": false,
    "pycharm": {
     "name": "#%%\n",
     "is_executing": true
    }
   }
  },
  {
   "cell_type": "code",
   "execution_count": null,
   "outputs": [],
   "source": [],
   "metadata": {
    "collapsed": false,
    "pycharm": {
     "name": "#%%\n",
     "is_executing": true
    }
   }
  },
  {
   "cell_type": "code",
   "execution_count": null,
   "outputs": [],
   "source": [],
   "metadata": {
    "collapsed": false,
    "pycharm": {
     "name": "#%%\n",
     "is_executing": true
    }
   }
  },
  {
   "cell_type": "code",
   "execution_count": null,
   "outputs": [],
   "source": [],
   "metadata": {
    "collapsed": false,
    "pycharm": {
     "name": "#%%\n",
     "is_executing": true
    }
   }
  },
  {
   "cell_type": "code",
   "execution_count": null,
   "outputs": [],
   "source": [],
   "metadata": {
    "collapsed": false,
    "pycharm": {
     "name": "#%%\n",
     "is_executing": true
    }
   }
  },
  {
   "cell_type": "code",
   "execution_count": 11,
   "outputs": [],
   "source": [],
   "metadata": {
    "collapsed": false,
    "pycharm": {
     "name": "#%%\n"
    }
   }
  },
  {
   "cell_type": "code",
   "execution_count": 12,
   "outputs": [],
   "source": [],
   "metadata": {
    "collapsed": false,
    "pycharm": {
     "name": "#%%\n"
    }
   }
  },
  {
   "cell_type": "code",
   "execution_count": null,
   "outputs": [],
   "source": [],
   "metadata": {
    "collapsed": false,
    "pycharm": {
     "name": "#%%\n",
     "is_executing": true
    }
   }
  }
 ],
 "metadata": {
  "kernelspec": {
   "display_name": "Python 3",
   "language": "python",
   "name": "python3"
  },
  "language_info": {
   "codemirror_mode": {
    "name": "ipython",
    "version": 2
   },
   "file_extension": ".py",
   "mimetype": "text/x-python",
   "name": "python",
   "nbconvert_exporter": "python",
   "pygments_lexer": "ipython2",
   "version": "2.7.6"
  }
 },
 "nbformat": 4,
 "nbformat_minor": 0
}