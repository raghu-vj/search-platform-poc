{
 "cells": [
  {
   "cell_type": "code",
   "execution_count": 1,
   "metadata": {
    "pycharm": {
     "name": "#%%\n"
    }
   },
   "outputs": [
    {
     "data": {
      "text/html": [
       "<div>\n",
       "<style scoped>\n",
       "    .dataframe tbody tr th:only-of-type {\n",
       "        vertical-align: middle;\n",
       "    }\n",
       "\n",
       "    .dataframe tbody tr th {\n",
       "        vertical-align: top;\n",
       "    }\n",
       "\n",
       "    .dataframe thead th {\n",
       "        text-align: right;\n",
       "    }\n",
       "</style>\n",
       "<table border=\"1\" class=\"dataframe\">\n",
       "  <thead>\n",
       "    <tr style=\"text-align: right;\">\n",
       "      <th></th>\n",
       "      <th>city_id</th>\n",
       "      <th>query</th>\n",
       "      <th>query_rank</th>\n",
       "      <th>query_percentile</th>\n",
       "      <th>productId</th>\n",
       "      <th>productName</th>\n",
       "      <th>q_p_rel</th>\n",
       "      <th>product_rank</th>\n",
       "    </tr>\n",
       "  </thead>\n",
       "  <tbody>\n",
       "    <tr>\n",
       "      <th>0</th>\n",
       "      <td>1</td>\n",
       "      <td>milk</td>\n",
       "      <td>1</td>\n",
       "      <td>0.012726</td>\n",
       "      <td>\"61WDNU5G4B\"</td>\n",
       "      <td>\"Nandini Pasteurised Toned Milk\"</td>\n",
       "      <td>26633</td>\n",
       "      <td>1</td>\n",
       "    </tr>\n",
       "    <tr>\n",
       "      <th>1</th>\n",
       "      <td>1</td>\n",
       "      <td>milk</td>\n",
       "      <td>1</td>\n",
       "      <td>0.012726</td>\n",
       "      <td>\"86CIN32V02\"</td>\n",
       "      <td>\"Heritage Daily Health Toned Milk \"</td>\n",
       "      <td>9788</td>\n",
       "      <td>2</td>\n",
       "    </tr>\n",
       "    <tr>\n",
       "      <th>2</th>\n",
       "      <td>1</td>\n",
       "      <td>milk</td>\n",
       "      <td>1</td>\n",
       "      <td>0.012726</td>\n",
       "      <td>\"CCX1XWR7GN\"</td>\n",
       "      <td>\"Nandini Shubam Milk\"</td>\n",
       "      <td>9260</td>\n",
       "      <td>3</td>\n",
       "    </tr>\n",
       "    <tr>\n",
       "      <th>3</th>\n",
       "      <td>1</td>\n",
       "      <td>milk</td>\n",
       "      <td>1</td>\n",
       "      <td>0.012726</td>\n",
       "      <td>\"13JKWIC8ZS\"</td>\n",
       "      <td>\"Nandini GoodLife Toned Milk \"</td>\n",
       "      <td>7750</td>\n",
       "      <td>4</td>\n",
       "    </tr>\n",
       "    <tr>\n",
       "      <th>4</th>\n",
       "      <td>1</td>\n",
       "      <td>milk</td>\n",
       "      <td>1</td>\n",
       "      <td>0.012726</td>\n",
       "      <td>\"MY3HE7Z0AA\"</td>\n",
       "      <td>\"Nandini GoodLife Toned Milk \"</td>\n",
       "      <td>6643</td>\n",
       "      <td>5</td>\n",
       "    </tr>\n",
       "    <tr>\n",
       "      <th>...</th>\n",
       "      <td>...</td>\n",
       "      <td>...</td>\n",
       "      <td>...</td>\n",
       "      <td>...</td>\n",
       "      <td>...</td>\n",
       "      <td>...</td>\n",
       "      <td>...</td>\n",
       "      <td>...</td>\n",
       "    </tr>\n",
       "    <tr>\n",
       "      <th>22653</th>\n",
       "      <td>1</td>\n",
       "      <td>cerelac</td>\n",
       "      <td>713</td>\n",
       "      <td>0.499887</td>\n",
       "      <td>\"A1ZP6AE3QW\"</td>\n",
       "      <td>\"Nestle Cerelac Baby Cereal with Milk Rice - F...</td>\n",
       "      <td>211</td>\n",
       "      <td>5</td>\n",
       "    </tr>\n",
       "    <tr>\n",
       "      <th>22654</th>\n",
       "      <td>1</td>\n",
       "      <td>cerelac</td>\n",
       "      <td>713</td>\n",
       "      <td>0.499887</td>\n",
       "      <td>\"QJLVO78B3P\"</td>\n",
       "      <td>\"Nestle Wheat Apple Cherry Cerelac\"</td>\n",
       "      <td>206</td>\n",
       "      <td>6</td>\n",
       "    </tr>\n",
       "    <tr>\n",
       "      <th>22655</th>\n",
       "      <td>1</td>\n",
       "      <td>cerelac</td>\n",
       "      <td>713</td>\n",
       "      <td>0.499887</td>\n",
       "      <td>\"82YX75EWEI\"</td>\n",
       "      <td>\"Nestle Cerelac Wheat, Stage 1\"</td>\n",
       "      <td>194</td>\n",
       "      <td>7</td>\n",
       "    </tr>\n",
       "    <tr>\n",
       "      <th>22656</th>\n",
       "      <td>1</td>\n",
       "      <td>cerelac</td>\n",
       "      <td>713</td>\n",
       "      <td>0.499887</td>\n",
       "      <td>\"WXY0CWXYGH\"</td>\n",
       "      <td>\"Nestle Cerelac Multigrain Dal Veg - From 12 T...</td>\n",
       "      <td>182</td>\n",
       "      <td>8</td>\n",
       "    </tr>\n",
       "    <tr>\n",
       "      <th>22657</th>\n",
       "      <td>1</td>\n",
       "      <td>cerelac</td>\n",
       "      <td>713</td>\n",
       "      <td>0.499887</td>\n",
       "      <td>\"13THNBQN8F\"</td>\n",
       "      <td>\"Nestle Cerelac with Wheat &amp; Rice Mixed Fruit\"</td>\n",
       "      <td>115</td>\n",
       "      <td>9</td>\n",
       "    </tr>\n",
       "  </tbody>\n",
       "</table>\n",
       "<p>22658 rows × 8 columns</p>\n",
       "</div>"
      ],
      "text/plain": [
       "       city_id    query  query_rank  query_percentile     productId  \\\n",
       "0            1     milk           1          0.012726  \"61WDNU5G4B\"   \n",
       "1            1     milk           1          0.012726  \"86CIN32V02\"   \n",
       "2            1     milk           1          0.012726  \"CCX1XWR7GN\"   \n",
       "3            1     milk           1          0.012726  \"13JKWIC8ZS\"   \n",
       "4            1     milk           1          0.012726  \"MY3HE7Z0AA\"   \n",
       "...        ...      ...         ...               ...           ...   \n",
       "22653        1  cerelac         713          0.499887  \"A1ZP6AE3QW\"   \n",
       "22654        1  cerelac         713          0.499887  \"QJLVO78B3P\"   \n",
       "22655        1  cerelac         713          0.499887  \"82YX75EWEI\"   \n",
       "22656        1  cerelac         713          0.499887  \"WXY0CWXYGH\"   \n",
       "22657        1  cerelac         713          0.499887  \"13THNBQN8F\"   \n",
       "\n",
       "                                             productName  q_p_rel  \\\n",
       "0                       \"Nandini Pasteurised Toned Milk\"    26633   \n",
       "1                    \"Heritage Daily Health Toned Milk \"     9788   \n",
       "2                                  \"Nandini Shubam Milk\"     9260   \n",
       "3                         \"Nandini GoodLife Toned Milk \"     7750   \n",
       "4                         \"Nandini GoodLife Toned Milk \"     6643   \n",
       "...                                                  ...      ...   \n",
       "22653  \"Nestle Cerelac Baby Cereal with Milk Rice - F...      211   \n",
       "22654                \"Nestle Wheat Apple Cherry Cerelac\"      206   \n",
       "22655                    \"Nestle Cerelac Wheat, Stage 1\"      194   \n",
       "22656  \"Nestle Cerelac Multigrain Dal Veg - From 12 T...      182   \n",
       "22657     \"Nestle Cerelac with Wheat & Rice Mixed Fruit\"      115   \n",
       "\n",
       "       product_rank  \n",
       "0                 1  \n",
       "1                 2  \n",
       "2                 3  \n",
       "3                 4  \n",
       "4                 5  \n",
       "...             ...  \n",
       "22653             5  \n",
       "22654             6  \n",
       "22655             7  \n",
       "22656             8  \n",
       "22657             9  \n",
       "\n",
       "[22658 rows x 8 columns]"
      ]
     },
     "execution_count": 1,
     "metadata": {},
     "output_type": "execute_result"
    }
   ],
   "source": [
    "import glob\n",
    "import pandas as pd\n",
    "import math\n",
    "def sigmoid(x):\n",
    "  return 1 / (1 + math.exp(-x))\n",
    "\n",
    "\n",
    "#all_algolia_tsv_files = glob.glob(\"./dumps/queries_1/**/algolia.txt\", recursive=True)\n",
    "#all_es_tsv_files = glob.glob(\"./dumps/queries_1/**/es.txt\", recursive = True)\n",
    "\n",
    "all_algolia = pd.read_csv('./data/algolia_blr_1week_top50percentile.tsv', sep='\\t', header=0)\n",
    "df2 = pd.read_csv('./data/gt_blr_2week_top50percentile.tsv', sep='\\t', header=0)\n",
    "df2.applymap(lambda x: x.strip() if isinstance(x, str) else x)\n",
    "\n",
    "#pop_score_df = pd.read_csv('./data/im_popscore_788741_30days_13thapril.tsv', sep='\\t', header=0)\n"
   ]
  },
  {
   "cell_type": "code",
   "execution_count": null,
   "metadata": {
    "pycharm": {
     "name": "#%%\n"
    }
   },
   "outputs": [],
   "source": []
  },
  {
   "cell_type": "code",
   "execution_count": 50,
   "metadata": {
    "pycharm": {
     "name": "#%%\n"
    }
   },
   "outputs": [
    {
     "data": {
      "text/plain": [
       "1"
      ]
     },
     "execution_count": 50,
     "metadata": {},
     "output_type": "execute_result"
    }
   ],
   "source": [
    "len(pop_score_df.loc[pop_score_df['PRODUCT_NAME'] == 'Nandini Curd', 'ORDER_COUNT'])"
   ]
  },
  {
   "cell_type": "code",
   "execution_count": 40,
   "metadata": {
    "collapsed": true,
    "pycharm": {
     "name": "#%%\n"
    }
   },
   "outputs": [
    {
     "name": "stdout",
     "output_type": "stream",
     "text": [
      "21175\n"
     ]
    },
    {
     "data": {
      "text/html": [
       "<div>\n",
       "<style scoped>\n",
       "    .dataframe tbody tr th:only-of-type {\n",
       "        vertical-align: middle;\n",
       "    }\n",
       "\n",
       "    .dataframe tbody tr th {\n",
       "        vertical-align: top;\n",
       "    }\n",
       "\n",
       "    .dataframe thead th {\n",
       "        text-align: right;\n",
       "    }\n",
       "</style>\n",
       "<table border=\"1\" class=\"dataframe\">\n",
       "  <thead>\n",
       "    <tr style=\"text-align: right;\">\n",
       "      <th></th>\n",
       "      <th>Query</th>\n",
       "      <th>es</th>\n",
       "      <th>es_score</th>\n",
       "      <th>pop_score</th>\n",
       "      <th>relevance_score</th>\n",
       "      <th>es_sugg_rank</th>\n",
       "    </tr>\n",
       "  </thead>\n",
       "  <tbody>\n",
       "    <tr>\n",
       "      <th>10751</th>\n",
       "      <td>aloo</td>\n",
       "      <td>Potato (Aloo)</td>\n",
       "      <td>155.961300</td>\n",
       "      <td>1010.0</td>\n",
       "      <td>0.500000</td>\n",
       "      <td>1.0</td>\n",
       "    </tr>\n",
       "    <tr>\n",
       "      <th>10752</th>\n",
       "      <td>aloo</td>\n",
       "      <td>Potato (Aloo) Value Pack</td>\n",
       "      <td>152.216220</td>\n",
       "      <td>267.0</td>\n",
       "      <td>0.500000</td>\n",
       "      <td>2.0</td>\n",
       "    </tr>\n",
       "    <tr>\n",
       "      <th>10753</th>\n",
       "      <td>aloo</td>\n",
       "      <td>Potato</td>\n",
       "      <td>136.460390</td>\n",
       "      <td>0.0</td>\n",
       "      <td>0.500000</td>\n",
       "      <td>3.0</td>\n",
       "    </tr>\n",
       "    <tr>\n",
       "      <th>10754</th>\n",
       "      <td>aloo</td>\n",
       "      <td>Organic Certified Potato</td>\n",
       "      <td>133.356600</td>\n",
       "      <td>240.0</td>\n",
       "      <td>0.500000</td>\n",
       "      <td>4.0</td>\n",
       "    </tr>\n",
       "    <tr>\n",
       "      <th>10755</th>\n",
       "      <td>aloo</td>\n",
       "      <td>Potato</td>\n",
       "      <td>125.397766</td>\n",
       "      <td>0.0</td>\n",
       "      <td>0.500000</td>\n",
       "      <td>5.0</td>\n",
       "    </tr>\n",
       "    <tr>\n",
       "      <th>...</th>\n",
       "      <td>...</td>\n",
       "      <td>...</td>\n",
       "      <td>...</td>\n",
       "      <td>...</td>\n",
       "      <td>...</td>\n",
       "      <td>...</td>\n",
       "    </tr>\n",
       "    <tr>\n",
       "      <th>4077</th>\n",
       "      <td>water</td>\n",
       "      <td>Lay's Wafer Style Tangy Treat Flavour</td>\n",
       "      <td>0.696575</td>\n",
       "      <td>59.0</td>\n",
       "      <td>0.333714</td>\n",
       "      <td>78.0</td>\n",
       "    </tr>\n",
       "    <tr>\n",
       "      <th>4078</th>\n",
       "      <td>water</td>\n",
       "      <td>Dukes Waffy Strawberry Roll</td>\n",
       "      <td>0.695634</td>\n",
       "      <td>16.0</td>\n",
       "      <td>0.333609</td>\n",
       "      <td>79.0</td>\n",
       "    </tr>\n",
       "    <tr>\n",
       "      <th>4079</th>\n",
       "      <td>water</td>\n",
       "      <td>Dukes Waffy Orange Wafers</td>\n",
       "      <td>0.675631</td>\n",
       "      <td>84.0</td>\n",
       "      <td>0.331381</td>\n",
       "      <td>80.0</td>\n",
       "    </tr>\n",
       "    <tr>\n",
       "      <th>4080</th>\n",
       "      <td>water</td>\n",
       "      <td>Combo (2-Pack) Nestle Kitkat 2 Finger Wafer Bar</td>\n",
       "      <td>0.571102</td>\n",
       "      <td>0.0</td>\n",
       "      <td>0.319509</td>\n",
       "      <td>81.0</td>\n",
       "    </tr>\n",
       "    <tr>\n",
       "      <th>4081</th>\n",
       "      <td>water</td>\n",
       "      <td>Nestle Kitkat Dessert Delight Divine Choco Pud...</td>\n",
       "      <td>0.483932</td>\n",
       "      <td>11.0</td>\n",
       "      <td>0.309338</td>\n",
       "      <td>82.0</td>\n",
       "    </tr>\n",
       "  </tbody>\n",
       "</table>\n",
       "<p>21175 rows × 6 columns</p>\n",
       "</div>"
      ],
      "text/plain": [
       "       Query                                                 es    es_score  \\\n",
       "10751   aloo                                      Potato (Aloo)  155.961300   \n",
       "10752   aloo                           Potato (Aloo) Value Pack  152.216220   \n",
       "10753   aloo                                             Potato  136.460390   \n",
       "10754   aloo                           Organic Certified Potato  133.356600   \n",
       "10755   aloo                                             Potato  125.397766   \n",
       "...      ...                                                ...         ...   \n",
       "4077   water              Lay's Wafer Style Tangy Treat Flavour    0.696575   \n",
       "4078   water                        Dukes Waffy Strawberry Roll    0.695634   \n",
       "4079   water                          Dukes Waffy Orange Wafers    0.675631   \n",
       "4080   water    Combo (2-Pack) Nestle Kitkat 2 Finger Wafer Bar    0.571102   \n",
       "4081   water  Nestle Kitkat Dessert Delight Divine Choco Pud...    0.483932   \n",
       "\n",
       "       pop_score  relevance_score  es_sugg_rank  \n",
       "10751     1010.0         0.500000           1.0  \n",
       "10752      267.0         0.500000           2.0  \n",
       "10753        0.0         0.500000           3.0  \n",
       "10754      240.0         0.500000           4.0  \n",
       "10755        0.0         0.500000           5.0  \n",
       "...          ...              ...           ...  \n",
       "4077        59.0         0.333714          78.0  \n",
       "4078        16.0         0.333609          79.0  \n",
       "4079        84.0         0.331381          80.0  \n",
       "4080         0.0         0.319509          81.0  \n",
       "4081        11.0         0.309338          82.0  \n",
       "\n",
       "[21175 rows x 6 columns]"
      ]
     },
     "execution_count": 40,
     "metadata": {},
     "output_type": "execute_result"
    }
   ],
   "source": [
    "# to read results from multiple folders\n",
    "es_data = []\n",
    "algolia_data = []\n",
    "for file_name in all_es_tsv_files:\n",
    "    with open(file_name) as file:\n",
    "        query = file_name.split('/')[3]\n",
    "        for line in file:\n",
    "            l=line.split(',')\n",
    "            es_score = float(l[-1].strip('\\n'))\n",
    "            es_result = ','.join(l[:-1])\n",
    "            order_counts = pop_score_df.loc[pop_score_df['PRODUCT_NAME'] == es_result, 'ORDER_COUNT']\n",
    "            if len(order_counts) > 0:\n",
    "                pop_score = float(order_counts.iloc[0])\n",
    "            else:\n",
    "                pop_score = 0\n",
    "            relevance_score = 0.5*sigmoid(float(es_score)) + 0.0*sigmoid(float(pop_score))\n",
    "            es_data.append([query, es_result, es_score, pop_score, relevance_score])\n",
    "print(len(es_data))\n",
    "\n",
    "for file_name in all_algolia_tsv_files:\n",
    "    with open(file_name) as file:\n",
    "        query = file_name.split('/')[3]\n",
    "        for line in file:\n",
    "            algolia_result = line.strip('\\n')\n",
    "            algolia_data.append([query, algolia_result, 1])\n",
    "\n",
    "df_algolia = pd.DataFrame(algolia_data)\n",
    "df_es = pd.DataFrame(es_data)\n",
    "#df_algolia.rename(columns = {'0' : 'Query', '1': 'Algolia Result'})\n",
    "\n"
   ]
  },
  {
   "cell_type": "code",
   "execution_count": null,
   "metadata": {},
   "outputs": [],
   "source": [
    "\n",
    "df_algolia.columns = [\"Query\", \"Algolia Results\", \"algolia_score\"]\n",
    "df_es.columns = [\"Query\", \"Elastic-search results\", \"es_score\", \"pop_score\", \"relevance_score\"]\n",
    "\n",
    "#df_algolia.loc[df_algolia['Query'] == 'aloo']\n",
    "df_algolia.applymap(lambda x: x.strip() if isinstance(x, str) else x)\n",
    "df_es.applymap(lambda x: x.strip() if isinstance(x, str) else x)\n",
    "\n",
    "df_algolia[\"Query\"].ffill(inplace=True)\n",
    "df_es[\"Query\"].ffill(inplace=True)\n",
    "\n",
    "\n",
    "\n",
    "df1_algolia = df_algolia.rename(columns = {'Algolia Results': 'algolia'})\n",
    "df1_es = df_es.rename(columns = {'Elastic-search results': 'es'})\n",
    "\n",
    "\n",
    "df1_algolia['algolia_sugg_rank'] = df1_algolia.groupby('Query')['Query'].rank(method='first')\n",
    "df1_es['es_sugg_rank'] = df1_es.groupby('Query')['relevance_score'].rank(method = 'first', ascending = False)\n",
    "df1_es.sort_values(['Query', 'es_sugg_rank'], ascending=[True, True])"
   ]
  },
  {
   "cell_type": "code",
   "execution_count": 31,
   "metadata": {
    "collapsed": true
   },
   "outputs": [
    {
     "data": {
      "text/plain": [
       "88"
      ]
     },
     "execution_count": 31,
     "metadata": {},
     "output_type": "execute_result"
    }
   ],
   "source": [
    "len(set(list(df1_es['Query'])))\n",
    "\n"
   ]
  },
  {
   "cell_type": "code",
   "execution_count": 32,
   "metadata": {
    "pycharm": {
     "name": "#%%\n"
    }
   },
   "outputs": [
    {
     "name": "stdout",
     "output_type": "stream",
     "text": [
      "88\n"
     ]
    }
   ],
   "source": [
    "print(len(set(list(df1_es['Query']))))\n",
    "\n"
   ]
  },
  {
   "cell_type": "code",
   "execution_count": 41,
   "metadata": {
    "pycharm": {
     "name": "#%%\n"
    }
   },
   "outputs": [
    {
     "name": "stdout",
     "output_type": "stream",
     "text": [
      "88\n",
      "88\n"
     ]
    }
   ],
   "source": [
    "print(len(set(list(df1_es['Query']))))\n",
    "\n",
    "df1_algolia = df1_algolia[df1_algolia['algolia_sugg_rank'] <= 10]\n",
    "df1_es = df1_es[df1_es['es_sugg_rank'] <= 10]\n",
    "\n",
    "print(len(set(list(df1_es['Query']))))\n",
    "\n",
    "df2['sugg_count'] = df2.groupby('Query')['Query'].transform('count')\n",
    "df2.sort_values(['Query'])\n",
    "df2['order_count'].fillna(0, inplace = True)\n",
    "\n",
    "df2['sugg_rank'] = df2.sort_values(['Query', 'order_count', 'SEARCHES'], ascending=False).groupby(['Query']).cumcount() + 1\n",
    "df2.sort_values(['Query', 'order_count'], ascending = [1,0])\n",
    "\n",
    "df2 = df2[df2['sugg_rank'] <= 10]\n",
    "\n",
    "\n",
    "\n",
    "df2_sel_col = df2[['Query', 'suggestion', 'sugg_rank']].rename(columns = {'suggestion' : 'ground_truth_product', 'sugg_rank': 'gt_product_rank'})\n",
    "\n",
    "\n",
    "\n",
    "#print(df1_out)\n",
    "#df1_algolia = df1_out.groupby('Query').agg({'algolia':lambda x: list(x)})\n",
    "#df1_es = df1_out.groupby('Query').agg({'es':lambda x: list(x)})\n"
   ]
  },
  {
   "cell_type": "code",
   "execution_count": 42,
   "metadata": {
    "pycharm": {
     "name": "#%%\n"
    }
   },
   "outputs": [],
   "source": [
    "df1_gt = df2_sel_col.groupby('Query').agg({'ground_truth_product':lambda x: list(x)})\n",
    "df1_es = df1_es.groupby('Query').agg({'es':lambda x: list(x)})\n",
    "df1_algolia = df1_algolia.groupby('Query').agg({'algolia':lambda x: list(x)})\n"
   ]
  },
  {
   "cell_type": "code",
   "execution_count": 35,
   "metadata": {
    "pycharm": {
     "name": "#%%\n"
    }
   },
   "outputs": [
    {
     "data": {
      "text/plain": [
       "es    88\n",
       "dtype: int64"
      ]
     },
     "execution_count": 35,
     "metadata": {},
     "output_type": "execute_result"
    }
   ],
   "source": [
    "df1_es.count()"
   ]
  },
  {
   "cell_type": "code",
   "execution_count": 43,
   "metadata": {
    "pycharm": {
     "name": "#%%\n"
    }
   },
   "outputs": [
    {
     "name": "stdout",
     "output_type": "stream",
     "text": [
      "count, skip_count: 85 3\n",
      "recall_algolia: 53.02287581699346\n",
      "recall_es: 51.643323996265174\n",
      "ndcg_algolia: 0.5914169570672376\n",
      "ndcg_es: 0.5778518238464659\n",
      "mrr_algolia: 0.3422549019607843\n",
      "mrr_es: 0.36035480859010266\n"
     ]
    }
   ],
   "source": [
    "dict_algo = df1_algolia.to_dict()#['Algolia Results'].keys()#['paneer']\n",
    "dict_es = df1_es.to_dict()#['Algolia Results'].keys()#['paneer']\n",
    "dict_gt = df1_gt.to_dict()#['Algolia Results'].keys()#['paneer']\n",
    "\n",
    "#print(dict_algo)\n",
    "#print(dict_es)\n",
    "#print(dict_gt)\n",
    "\n",
    "dict_all = dict_algo\n",
    "dict_all.update(dict_es)\n",
    "dict_all.update(dict_gt)\n",
    "#print(dict_all)\n",
    "\n",
    "avg_recall_es = 0\n",
    "avg_recall_algolia = 0\n",
    "count = 0\n",
    "skip_count = 0\n",
    "new_recall_dict = {}\n",
    "avg_ndcg_algolia = 0\n",
    "avg_ndcg_es = 0\n",
    "avg_mrr_algolia = 0\n",
    "avg_mrr_es = 0\n",
    "\n",
    "for key in dict_algo['algolia']:\n",
    "    if key not in dict_all['ground_truth_product']:\n",
    "        skip_count += 1\n",
    "        continue\n",
    "    gt_list = [str(p).strip() for p in dict_all['ground_truth_product'][key] if str(p) != 'nan']\n",
    "    if len(set(gt_list)) == 0:\n",
    "        skip_count += 1\n",
    "        continue\n",
    "\n",
    "    algolia_list = [str(p).strip() for p in dict_all['algolia'][key] if str(p) != 'nan']\n",
    "    es_list = [str(p).strip() for p in dict_all['es'][key] if str(p) != 'nan']\n",
    "    #print(key)\n",
    "    #if key == 'coconut':\n",
    "        # print(algolia_list)\n",
    "        # print(gt_list)\n",
    "        # print(es_list)\n",
    "        # print(len(set(algolia_list)), len(set(es_list)), len(set(gt_list)))\n",
    "    recall_algolia = len(set(gt_list).intersection(set(algolia_list)))*100/len(set(gt_list))\n",
    "    avg_recall_algolia += recall_algolia\n",
    "\n",
    "    recall_es =  len(set(gt_list).intersection(set(es_list)))*100/len(set(gt_list))\n",
    "    avg_recall_es += recall_es\n",
    "    #print(recall_algolia, recall_es)\n",
    "    if not (recall_algolia == 0 and recall_es == 0):\n",
    "        count += 1\n",
    "    else:\n",
    "        skip_count += 1\n",
    "\n",
    "    #add info to output dictionary\n",
    "    new_recall_dict[key] = {'recall_algolia_in_gt_top10': recall_algolia,\n",
    "                            'recall_es_in_gt_top10': recall_es}\n",
    "\n",
    "    # ndcg calculation\n",
    "    relevance_list_algolia = []\n",
    "    relevance_list_es = []\n",
    "    if len(algolia_list) == 0:\n",
    "        print('problem here', key)\n",
    "    for item in algolia_list:\n",
    "        if item in gt_list:\n",
    "            gt_index = gt_list.index(item)\n",
    "        else:\n",
    "            gt_index = 10\n",
    "        if gt_index < 0:\n",
    "            gt_index = 10\n",
    "        relevance_list_algolia.append(10-gt_index)\n",
    "\n",
    "    for item in es_list:\n",
    "        if item in gt_list:\n",
    "            gt_index = gt_list.index(item)\n",
    "        else:\n",
    "            gt_index = 10\n",
    "\n",
    "        if gt_index < 0:\n",
    "            gt_index = 10\n",
    "        relevance_list_es.append(10-gt_index)\n",
    "\n",
    "    algolia_dcg = 0\n",
    "    es_dcg = 0\n",
    "    algolia_idcg = 0\n",
    "    es_idcg = 0\n",
    "    for i in range(len(relevance_list_algolia)):\n",
    "        algolia_dcg += relevance_list_algolia[i]/math.log2(i+2)\n",
    "        algolia_idcg += (len(relevance_list_algolia) - i)/math.log2(i+2)\n",
    "\n",
    "    for i in range(len(relevance_list_es)):\n",
    "        es_dcg += relevance_list_es[i]/math.log2(i+2)\n",
    "        es_idcg += (len(relevance_list_es) - i)/math.log2(i+2)\n",
    "\n",
    "\n",
    "    avg_ndcg_algolia += algolia_dcg/algolia_idcg\n",
    "    avg_ndcg_es += es_dcg/es_idcg\n",
    "\n",
    "    #mrr calculation\n",
    "    first_item = gt_list[0]\n",
    "    if first_item in algolia_list:\n",
    "        avg_mrr_algolia += 1/(algolia_list.index(first_item)+1)\n",
    "    else:\n",
    "        avg_mrr_algolia += 0\n",
    "\n",
    "    if first_item in es_list:\n",
    "        avg_mrr_es += 1/(es_list.index(first_item)+1)\n",
    "    else:\n",
    "        avg_mrr_es += 0\n",
    "\n",
    "\n",
    "\n",
    "avg_recall_algolia = avg_recall_algolia/count\n",
    "avg_recall_es = avg_recall_es/count\n",
    "avg_ndcg_algolia = avg_ndcg_algolia/count\n",
    "avg_ndcg_es = avg_ndcg_es/count\n",
    "avg_mrr_algolia = avg_mrr_algolia/count\n",
    "avg_mrr_es = avg_mrr_es/count\n",
    "\n",
    "print('count, skip_count:', count, skip_count)\n",
    "print('recall_algolia:', avg_recall_algolia)\n",
    "print('recall_es:', avg_recall_es)\n",
    "print('ndcg_algolia:', avg_ndcg_algolia)\n",
    "print('ndcg_es:', avg_ndcg_es)\n",
    "print('mrr_algolia:', avg_mrr_algolia)\n",
    "print('mrr_es:', avg_mrr_es)\n",
    "\n",
    "new_recall_df = pd.DataFrame.from_dict(new_recall_dict).T\n",
    "new_recall_df['Query'] = new_recall_df.index\n",
    "#new_recall_df\n",
    "\n",
    "\n",
    "\n",
    "\n"
   ]
  },
  {
   "cell_type": "code",
   "execution_count": null,
   "metadata": {
    "pycharm": {
     "name": "#%%\n"
    }
   },
   "outputs": [],
   "source": [
    "df1_out.to_csv('./data/im_poc_gt_788741_26apr_2days.tsv', sep = \"\\t\")\n"
   ]
  },
  {
   "cell_type": "code",
   "execution_count": null,
   "metadata": {
    "pycharm": {
     "name": "#%%\n"
    }
   },
   "outputs": [],
   "source": []
  },
  {
   "cell_type": "code",
   "execution_count": null,
   "metadata": {
    "pycharm": {
     "name": "#%%\n"
    }
   },
   "outputs": [],
   "source": []
  },
  {
   "cell_type": "code",
   "execution_count": null,
   "metadata": {
    "pycharm": {
     "name": "#%%\n"
    }
   },
   "outputs": [],
   "source": []
  },
  {
   "cell_type": "code",
   "execution_count": 56,
   "metadata": {
    "pycharm": {
     "name": "#%%\n"
    }
   },
   "outputs": [],
   "source": []
  },
  {
   "cell_type": "code",
   "execution_count": null,
   "metadata": {
    "pycharm": {
     "name": "#%%\n"
    }
   },
   "outputs": [],
   "source": []
  },
  {
   "cell_type": "code",
   "execution_count": 57,
   "metadata": {
    "pycharm": {
     "name": "#%%\n"
    }
   },
   "outputs": [],
   "source": []
  },
  {
   "cell_type": "code",
   "execution_count": 68,
   "metadata": {
    "pycharm": {
     "name": "#%%\n"
    }
   },
   "outputs": [],
   "source": []
  },
  {
   "cell_type": "code",
   "execution_count": null,
   "metadata": {
    "pycharm": {
     "name": "#%%\n"
    }
   },
   "outputs": [],
   "source": []
  },
  {
   "cell_type": "code",
   "execution_count": null,
   "metadata": {
    "pycharm": {
     "name": "#%%\n"
    }
   },
   "outputs": [],
   "source": []
  },
  {
   "cell_type": "code",
   "execution_count": null,
   "metadata": {
    "pycharm": {
     "name": "#%%\n"
    }
   },
   "outputs": [],
   "source": []
  },
  {
   "cell_type": "code",
   "execution_count": 50,
   "metadata": {
    "pycharm": {
     "name": "#%%\n"
    }
   },
   "outputs": [],
   "source": []
  },
  {
   "cell_type": "code",
   "execution_count": null,
   "metadata": {
    "pycharm": {
     "name": "#%%\n"
    }
   },
   "outputs": [],
   "source": []
  },
  {
   "cell_type": "code",
   "execution_count": null,
   "metadata": {
    "pycharm": {
     "name": "#%%\n"
    }
   },
   "outputs": [],
   "source": []
  },
  {
   "cell_type": "code",
   "execution_count": null,
   "metadata": {
    "pycharm": {
     "name": "#%%\n"
    }
   },
   "outputs": [],
   "source": []
  },
  {
   "cell_type": "code",
   "execution_count": null,
   "metadata": {
    "pycharm": {
     "name": "#%%\n"
    }
   },
   "outputs": [],
   "source": []
  },
  {
   "cell_type": "code",
   "execution_count": null,
   "metadata": {
    "pycharm": {
     "name": "#%%\n"
    }
   },
   "outputs": [],
   "source": []
  },
  {
   "cell_type": "code",
   "execution_count": null,
   "metadata": {
    "pycharm": {
     "name": "#%%\n"
    }
   },
   "outputs": [],
   "source": []
  },
  {
   "cell_type": "code",
   "execution_count": null,
   "metadata": {
    "pycharm": {
     "name": "#%%\n"
    }
   },
   "outputs": [],
   "source": []
  },
  {
   "cell_type": "code",
   "execution_count": 11,
   "metadata": {
    "pycharm": {
     "name": "#%%\n"
    }
   },
   "outputs": [],
   "source": []
  },
  {
   "cell_type": "code",
   "execution_count": 12,
   "metadata": {
    "pycharm": {
     "name": "#%%\n"
    }
   },
   "outputs": [],
   "source": []
  },
  {
   "cell_type": "code",
   "execution_count": null,
   "metadata": {
    "pycharm": {
     "name": "#%%\n"
    }
   },
   "outputs": [],
   "source": []
  }
 ],
 "metadata": {
  "kernelspec": {
   "display_name": "Python 3 (ipykernel)",
   "language": "python",
   "name": "python3"
  },
  "language_info": {
   "codemirror_mode": {
    "name": "ipython",
    "version": 3
   },
   "file_extension": ".py",
   "mimetype": "text/x-python",
   "name": "python",
   "nbconvert_exporter": "python",
   "pygments_lexer": "ipython3",
   "version": "3.9.7"
  }
 },
 "nbformat": 4,
 "nbformat_minor": 1
}
